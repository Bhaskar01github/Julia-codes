{
 "cells": [
  {
   "attachments": {},
   "cell_type": "markdown",
   "metadata": {},
   "source": [
    "#### First function, directly copied from python and translated to julia"
   ]
  },
  {
   "cell_type": "code",
   "execution_count": null,
   "metadata": {},
   "outputs": [],
   "source": [
    "lower = 1\n",
    "upper = 10^7\n",
    "\n",
    "primes = []\n",
    "\n",
    "@time for num=lower:upper\n",
    "    if num > 1\n",
    "        n = 0\n",
    "        for i=2:floor(Int, sqrt(num))\n",
    "            \n",
    "            if (num % i) == 0\n",
    "                n += 1\n",
    "                break\n",
    "            end\n",
    "        end\n",
    "        if n == 0\n",
    "            push!(primes,num)\n",
    "        end\n",
    "    end \n",
    "end\n",
    "\n",
    "print(size(primes))\n",
    "\n",
    "#238.363645 seconds (4.82 G allocations: 98.116 GiB, 20.23% gc time)\n",
    "#(664579,)"
   ]
  },
  {
   "attachments": {},
   "cell_type": "markdown",
   "metadata": {},
   "source": [
    "#### Enclose the above given loop in a function. This drastically changes the performance "
   ]
  },
  {
   "cell_type": "code",
   "execution_count": 3,
   "metadata": {},
   "outputs": [
    {
     "name": "stdout",
     "output_type": "stream",
     "text": [
      "  0.124191 seconds (78.41 k allocations: 3.024 MiB)\n"
     ]
    },
    {
     "data": {
      "text/plain": [
       "78498-element Vector{Any}:\n",
       "      2\n",
       "      3\n",
       "      5\n",
       "      7\n",
       "     11\n",
       "     13\n",
       "     17\n",
       "     19\n",
       "     23\n",
       "     29\n",
       "      ⋮\n",
       " 999883\n",
       " 999907\n",
       " 999917\n",
       " 999931\n",
       " 999953\n",
       " 999959\n",
       " 999961\n",
       " 999979\n",
       " 999983"
      ]
     },
     "metadata": {},
     "output_type": "display_data"
    }
   ],
   "source": [
    "function primes_find()\n",
    "    lower = 1\n",
    "    upper = 10^6\n",
    "\n",
    "    primes = []\n",
    "\n",
    "\n",
    "\n",
    "    for num=lower:upper\n",
    "        if num > 1\n",
    "            n = 0\n",
    "            for i=2:floor(Int, sqrt(num))\n",
    "                \n",
    "                if (num % i) == 0\n",
    "                    n += 1\n",
    "                    break\n",
    "                end\n",
    "            end\n",
    "            if n == 0\n",
    "                push!(primes,num)\n",
    "            end\n",
    "        end \n",
    "    end\n",
    "\n",
    "    return primes\n",
    "end\n",
    "\n",
    "@time primes_find()\n",
    "\n",
    "# This time also includes the time of printing/returning the array to the screen\n",
    "#4.697426 seconds (664.50 k allocations: 19.921 MiB, 1.32% gc time) #for 10^7\n",
    "#45.065760 seconds (3.00 M allocations: 82.961 MiB, 0.13% gc time) #for 5*10^7\n",
    "\n",
    "#664579-element Vector{Any}:\n"
   ]
  },
  {
   "attachments": {},
   "cell_type": "markdown",
   "metadata": {},
   "source": [
    "#### Let's now change the way our function looks a bit. Bit more cleaner"
   ]
  },
  {
   "cell_type": "code",
   "execution_count": 4,
   "metadata": {},
   "outputs": [
    {
     "data": {
      "text/plain": [
       "prime_check (generic function with 1 method)"
      ]
     },
     "metadata": {},
     "output_type": "display_data"
    }
   ],
   "source": [
    "function prime_check(num)\n",
    "    if num > 1\n",
    "        for i=2:floor(Int, sqrt(num))\n",
    "            if (num % i) == 0\n",
    "                return false\n",
    "            end\n",
    "        end\n",
    "        return true    \n",
    "    end \n",
    "end"
   ]
  },
  {
   "cell_type": "code",
   "execution_count": 5,
   "metadata": {},
   "outputs": [
    {
     "name": "stdout",
     "output_type": "stream",
     "text": [
      "false true"
     ]
    }
   ],
   "source": [
    "print(prime_check(4),\" \",prime_check(13)) # It works!"
   ]
  },
  {
   "cell_type": "code",
   "execution_count": 16,
   "metadata": {},
   "outputs": [],
   "source": [
    "function list_primes(lower,upper)\n",
    "    primes = []\n",
    "    for i=lower:upper\n",
    "        if prime_check(i) == true\n",
    "            push!(primes,i)\n",
    "        end\n",
    "    end\n",
    "    #return primes\n",
    "end\n",
    "\n",
    "@time list_primes(1,10^8)\n",
    "\n",
    "# Oh damn...\n",
    "#4.639027 seconds (664.50 k allocations: 19.921 MiB) #10^7\n",
    "#664579-element Vector{Any}:"
   ]
  },
  {
   "cell_type": "code",
   "execution_count": 1,
   "metadata": {},
   "outputs": [
    {
     "data": {
      "text/plain": [
       "8-element Vector{Float64}:\n",
       "  4.0e-6\n",
       "  4.0e-6\n",
       "  3.3e-5\n",
       "  0.000501\n",
       "  0.009267\n",
       "  0.193072\n",
       "  4.650086\n",
       " 45.06576"
      ]
     },
     "metadata": {},
     "output_type": "display_data"
    }
   ],
   "source": [
    "num = [10^i for i=1:7]\n",
    "push!(num,5*10^7)\n",
    "#time = [@time list_primes(1,i) for i in num]\n",
    "time = [0.000004,0.000004, 0.000033 ,0.000501 ,0.009267 ,0.193072,4.650086,45.065760]  "
   ]
  },
  {
   "cell_type": "code",
   "execution_count": 2,
   "metadata": {},
   "outputs": [
    {
     "ename": "ArgumentError",
     "evalue": "ArgumentError: Package Plots not found in current path.\n- Run `import Pkg; Pkg.add(\"Plots\")` to install the Plots package.",
     "output_type": "error",
     "traceback": [
      "ArgumentError: Package Plots not found in current path.\n",
      "- Run `import Pkg; Pkg.add(\"Plots\")` to install the Plots package.\n",
      "\n",
      "Stacktrace:\n",
      "  [1] macro expansion\n",
      "    @ .\\loading.jl:1163 [inlined]\n",
      "  [2] macro expansion\n",
      "    @ .\\lock.jl:223 [inlined]\n",
      "  [3] require(into::Module, mod::Symbol)\n",
      "    @ Base .\\loading.jl:1144\n",
      "  [4] eval\n",
      "    @ .\\boot.jl:368 [inlined]\n",
      "  [5] include_string(mapexpr::typeof(REPL.softscope), mod::Module, code::String, filename::String)\n",
      "    @ Base .\\loading.jl:1428\n",
      "  [6] #invokelatest#2\n",
      "    @ .\\essentials.jl:729 [inlined]\n",
      "  [7] invokelatest\n",
      "    @ .\\essentials.jl:726 [inlined]\n",
      "  [8] (::VSCodeServer.var\"#198#199\"{VSCodeServer.NotebookRunCellArguments, String})()\n",
      "    @ VSCodeServer c:\\Users\\BHASKAR BARMAN\\.vscode\\extensions\\julialang.language-julia-1.38.2\\scripts\\packages\\VSCodeServer\\src\\serve_notebook.jl:19\n",
      "  [9] withpath(f::VSCodeServer.var\"#198#199\"{VSCodeServer.NotebookRunCellArguments, String}, path::String)\n",
      "    @ VSCodeServer c:\\Users\\BHASKAR BARMAN\\.vscode\\extensions\\julialang.language-julia-1.38.2\\scripts\\packages\\VSCodeServer\\src\\repl.jl:249\n",
      " [10] notebook_runcell_request(conn::VSCodeServer.JSONRPC.JSONRPCEndpoint{Base.PipeEndpoint, Base.PipeEndpoint}, params::VSCodeServer.NotebookRunCellArguments)\n",
      "    @ VSCodeServer c:\\Users\\BHASKAR BARMAN\\.vscode\\extensions\\julialang.language-julia-1.38.2\\scripts\\packages\\VSCodeServer\\src\\serve_notebook.jl:13\n",
      " [11] dispatch_msg(x::VSCodeServer.JSONRPC.JSONRPCEndpoint{Base.PipeEndpoint, Base.PipeEndpoint}, dispatcher::VSCodeServer.JSONRPC.MsgDispatcher, msg::Dict{String, Any})\n",
      "    @ VSCodeServer.JSONRPC c:\\Users\\BHASKAR BARMAN\\.vscode\\extensions\\julialang.language-julia-1.38.2\\scripts\\packages\\JSONRPC\\src\\typed.jl:67\n",
      " [12] serve_notebook(pipename::String, outputchannel_logger::Base.CoreLogging.SimpleLogger; crashreporting_pipename::String)\n",
      "    @ VSCodeServer c:\\Users\\BHASKAR BARMAN\\.vscode\\extensions\\julialang.language-julia-1.38.2\\scripts\\packages\\VSCodeServer\\src\\serve_notebook.jl:139\n",
      " [13] top-level scope\n",
      "    @ c:\\Users\\BHASKAR BARMAN\\.vscode\\extensions\\julialang.language-julia-1.38.2\\scripts\\notebook\\notebook.jl:32"
     ]
    }
   ],
   "source": []
  },
  {
   "cell_type": "code",
   "execution_count": 4,
   "metadata": {},
   "outputs": [
    {
     "ename": "ArgumentError",
     "evalue": "ArgumentError: Package Plots not found in current path.\n- Run `import Pkg; Pkg.add(\"Plots\")` to install the Plots package.",
     "output_type": "error",
     "traceback": [
      "ArgumentError: Package Plots not found in current path.\n",
      "- Run `import Pkg; Pkg.add(\"Plots\")` to install the Plots package.\n",
      "\n",
      "Stacktrace:\n",
      "  [1] macro expansion\n",
      "    @ .\\loading.jl:1163 [inlined]\n",
      "  [2] macro expansion\n",
      "    @ .\\lock.jl:223 [inlined]\n",
      "  [3] require(into::Module, mod::Symbol)\n",
      "    @ Base .\\loading.jl:1144\n",
      "  [4] eval\n",
      "    @ .\\boot.jl:368 [inlined]\n",
      "  [5] include_string(mapexpr::typeof(REPL.softscope), mod::Module, code::String, filename::String)\n",
      "    @ Base .\\loading.jl:1428\n",
      "  [6] #invokelatest#2\n",
      "    @ .\\essentials.jl:729 [inlined]\n",
      "  [7] invokelatest\n",
      "    @ .\\essentials.jl:726 [inlined]\n",
      "  [8] (::VSCodeServer.var\"#198#199\"{VSCodeServer.NotebookRunCellArguments, String})()\n",
      "    @ VSCodeServer c:\\Users\\BHASKAR BARMAN\\.vscode\\extensions\\julialang.language-julia-1.38.2\\scripts\\packages\\VSCodeServer\\src\\serve_notebook.jl:19\n",
      "  [9] withpath(f::VSCodeServer.var\"#198#199\"{VSCodeServer.NotebookRunCellArguments, String}, path::String)\n",
      "    @ VSCodeServer c:\\Users\\BHASKAR BARMAN\\.vscode\\extensions\\julialang.language-julia-1.38.2\\scripts\\packages\\VSCodeServer\\src\\repl.jl:249\n",
      " [10] notebook_runcell_request(conn::VSCodeServer.JSONRPC.JSONRPCEndpoint{Base.PipeEndpoint, Base.PipeEndpoint}, params::VSCodeServer.NotebookRunCellArguments)\n",
      "    @ VSCodeServer c:\\Users\\BHASKAR BARMAN\\.vscode\\extensions\\julialang.language-julia-1.38.2\\scripts\\packages\\VSCodeServer\\src\\serve_notebook.jl:13\n",
      " [11] dispatch_msg(x::VSCodeServer.JSONRPC.JSONRPCEndpoint{Base.PipeEndpoint, Base.PipeEndpoint}, dispatcher::VSCodeServer.JSONRPC.MsgDispatcher, msg::Dict{String, Any})\n",
      "    @ VSCodeServer.JSONRPC c:\\Users\\BHASKAR BARMAN\\.vscode\\extensions\\julialang.language-julia-1.38.2\\scripts\\packages\\JSONRPC\\src\\typed.jl:67\n",
      " [12] serve_notebook(pipename::String, outputchannel_logger::Base.CoreLogging.SimpleLogger; crashreporting_pipename::String)\n",
      "    @ VSCodeServer c:\\Users\\BHASKAR BARMAN\\.vscode\\extensions\\julialang.language-julia-1.38.2\\scripts\\packages\\VSCodeServer\\src\\serve_notebook.jl:139\n",
      " [13] top-level scope\n",
      "    @ c:\\Users\\BHASKAR BARMAN\\.vscode\\extensions\\julialang.language-julia-1.38.2\\scripts\\notebook\\notebook.jl:32"
     ]
    }
   ],
   "source": [
    "using Plots\n",
    "plot(num,time,size=(1000,500))\n",
    "scatter!(num,time,size=(1000,500))\n",
    "#savefig(\"plot_numvstime.png\") "
   ]
  },
  {
   "cell_type": "code",
   "execution_count": 5,
   "metadata": {},
   "outputs": [
    {
     "data": {
      "text/plain": [
       "list_primes_new (generic function with 1 method)"
      ]
     },
     "metadata": {},
     "output_type": "display_data"
    }
   ],
   "source": [
    "function list_primes_new(lower,upper)\n",
    "    primes = zeros(floor(Int,(upper/(log(upper)) )*(1+1.2762/log(upper)) ))\n",
    "    j = 1\n",
    "    for i=lower:upper\n",
    "        if prime_check(i) == true\n",
    "            #push!(primes,i)\n",
    "            primes[j] = i\n",
    "            j += 1\n",
    "        end\n",
    "    end\n",
    "    #return primes\n",
    "    #return filter(!iszero, primes)\n",
    "end\n",
    "#45.082667 seconds (2 allocations: 23.068 MiB)"
   ]
  },
  {
   "cell_type": "code",
   "execution_count": 23,
   "metadata": {},
   "outputs": [
    {
     "name": "stdout",
     "output_type": "stream",
     "text": [
      " 12.116091 seconds (16.35 M allocations: 293.739 MiB, 0.44% gc time)\n"
     ]
    }
   ],
   "source": [
    "@time list_primes_new(1,10^8)"
   ]
  },
  {
   "cell_type": "code",
   "execution_count": 7,
   "metadata": {},
   "outputs": [],
   "source": [
    "using Primes"
   ]
  },
  {
   "attachments": {},
   "cell_type": "markdown",
   "metadata": {},
   "source": [
    "https://github.com/JuliaMath/Primes.jl/blob/master/src/Primes.jl <br/>\n",
    "link to the source code"
   ]
  },
  {
   "attachments": {},
   "cell_type": "markdown",
   "metadata": {},
   "source": [
    "```julia\n",
    "function isprime(n::Integer)\n",
    "    # Small precomputed primes + Miller-Rabin for primality testing:\n",
    "    #     https://en.wikipedia.org/wiki/Miller–Rabin_primality_test\n",
    "    #     https://github.com/JuliaLang/julia/issues/11594\n",
    "    n < 2 && return false\n",
    "    trailing_zeros(n) > 0 && return n==2\n",
    "    if n < N_SMALL_FACTORS\n",
    "        return _min_factor(n) == n\n",
    "    end\n",
    "    for m in (3, 5, 7, 11, 13, 17, 19, 23)\n",
    "        n % m == 0 && return false\n",
    "    end\n",
    "    s = trailing_zeros(n - 1)\n",
    "    d = (n - 1) >>> s\n",
    "    for a in witnesses(n)::Tuple{Vararg{Int}}\n",
    "        x = powermod(a, d, n)\n",
    "        x == 1 && continue\n",
    "        t = s\n",
    "        while x != n - 1\n",
    "            (t -= 1) ≤ 0 && return false\n",
    "            x = oftype(n, widemul(x, x) % n)\n",
    "            x == 1 && return false\n",
    "        end\n",
    "    end\n",
    "    return true\n",
    "end\n",
    "```\n"
   ]
  },
  {
   "cell_type": "code",
   "execution_count": 10,
   "metadata": {},
   "outputs": [
    {
     "data": {
      "text/plain": [
       "list_primes_new (generic function with 1 method)"
      ]
     },
     "metadata": {},
     "output_type": "display_data"
    }
   ],
   "source": [
    "function list_primes_new(lower,upper)\n",
    "    primes = zeros(floor(Int,(upper/(log(upper)) )*(1+1.2762/log(upper)) ))\n",
    "    j = 1\n",
    "    for i=lower:upper\n",
    "        if isprime(i) == true\n",
    "            primes[j] = i\n",
    "            j += 1\n",
    "        end\n",
    "    end\n",
    "    #return primes\n",
    "    #return filter(!iszero, primes)\n",
    "end\n",
    "#5.771016 seconds (8.17 M allocations: 147.712 MiB, 0.06% gc time)"
   ]
  },
  {
   "cell_type": "code",
   "execution_count": 24,
   "metadata": {},
   "outputs": [
    {
     "data": {
      "text/plain": [
       "5804784-element Vector{Float64}:\n",
       " 0.0\n",
       " 0.0\n",
       " 0.0\n",
       " 0.0\n",
       " 0.0\n",
       " 0.0\n",
       " 0.0\n",
       " 0.0\n",
       " 0.0\n",
       " 0.0\n",
       " ⋮\n",
       " 0.0\n",
       " 0.0\n",
       " 0.0\n",
       " 0.0\n",
       " 0.0\n",
       " 0.0\n",
       " 0.0\n",
       " 0.0\n",
       " 0.0"
      ]
     },
     "metadata": {},
     "output_type": "display_data"
    }
   ],
   "source": [
    "upper = 10^8\n",
    "zeros(floor(Int,(upper/(log(upper)) )*(1+1.2762/log(upper))  ))"
   ]
  },
  {
   "cell_type": "code",
   "execution_count": null,
   "metadata": {},
   "outputs": [],
   "source": []
  }
 ],
 "metadata": {
  "kernelspec": {
   "display_name": "Julia 1.8.5",
   "language": "julia",
   "name": "julia-1.8"
  },
  "language_info": {
   "file_extension": ".jl",
   "mimetype": "application/julia",
   "name": "julia",
   "version": "1.8.5"
  },
  "orig_nbformat": 4
 },
 "nbformat": 4,
 "nbformat_minor": 2
}
